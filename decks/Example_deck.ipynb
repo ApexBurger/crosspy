{
 "metadata": {
  "language_info": {
   "codemirror_mode": {
    "name": "ipython",
    "version": 3
   },
   "file_extension": ".py",
   "mimetype": "text/x-python",
   "name": "python",
   "nbconvert_exporter": "python",
   "pygments_lexer": "ipython3",
   "version": "3.8.5-final"
  },
  "orig_nbformat": 2,
  "kernelspec": {
   "name": "python3",
   "display_name": "Python 3",
   "language": "python"
  }
 },
 "nbformat": 4,
 "nbformat_minor": 2,
 "cells": [
  {
   "source": [
    "# Example deck for running a discontinuity tolerant DIC analysis on a set of images\n",
    "This jupyter notebook contains a typical DIC procedure for obtaining fine pass and a discontinuity tolerant second pass. "
   ],
   "cell_type": "markdown",
   "metadata": {}
  },
  {
   "cell_type": "code",
   "execution_count": null,
   "metadata": {},
   "outputs": [],
   "source": [
    "import os as o\n",
    "from pathlib import Path\n",
    "import time\n",
    "import matplotlib.pyplot as plt\n",
    "import crosspy as xpy"
   ]
  },
  {
   "source": [
    "## Fill settings below"
   ],
   "cell_type": "markdown",
   "metadata": {}
  },
  {
   "cell_type": "code",
   "execution_count": null,
   "metadata": {},
   "outputs": [],
   "source": [
    "\n",
    "# Define the folder path to images\n",
    "folder_path=Path(r'C:\\Users\\alexb\\Desktop\\crosspy\\data\\Tom')\n",
    "\n",
    "# NOTE THAT IMAGES SHOULD BE NUMBERED AND GRAYSCALE TIFFs ARE PREFERRED\n",
    "\n",
    "# Coarse pass settings\n",
    "coarse = 200 # in pixels\n",
    "coarse_overlap = 70 # in percentage\n",
    "\n",
    "# Fine pass settings\n",
    "fine = 48 # in pixels\n",
    "overlap = 80 # in percentage\n",
    "\n",
    "# Heaviside pass settings\n",
    "hs_size = 48\n",
    "hs_overlap = 80\n",
    "px_size = 30 # in nanometers\n",
    "\n",
    "# fft filter settings: high pass, high pass width, low pass, low pass width\n",
    "filter_settings=[4,2,15,8]\n",
    "\n",
    "# Parallel settings\n",
    "\n",
    "cores = 4 # number of CPU workers\n",
    "\n"
   ]
  },
  {
   "source": [
    "## Here we run conventional DIC to compare with later.\n",
    "The coarse pass settings will have to be changed manually by the user to find an ideal size and overlap. The coarse pass displacement field is used for image correction so it is important to use appropriate settings to get the largest amount of overlapping subsets for the second pass.\n",
    "\n",
    "It is good practice to begin by changing the coarse pass size in the variable \"coarse\". The goal is to use the smallest \"fine\" size."
   ],
   "cell_type": "markdown",
   "metadata": {}
  },
  {
   "cell_type": "code",
   "execution_count": null,
   "metadata": {
    "tags": [
     "outputPrepend"
    ]
   },
   "outputs": [],
   "source": [
    "if __name__ == \"__main__\":\n",
    "\n",
    "    # build the dic class (but don't run it yet):\n",
    "    Images = xpy.Imset(folder_path,'tif',[0,1])\n",
    "    roi_1stpass = dict(size_pass = coarse, overlap_percentage = coarse_overlap, xcf_mesh=coarse)\n",
    "    dic_1stpass=xpy.DIC(Images,roi_1stpass,filter_settings)\n",
    "\n",
    "    # run the dic on specified images within the stack, and get displacements:\n",
    "    dic_1stpass.run_sequential(cores=cores)\n",
    "    dic_1stpass.plot_displacements()\n",
    "\n",
    "    # correct the images and instantiate a new DIC class\n",
    "    corrected_images=dic_1stpass.correct(method='polynomial',printing=1)\n",
    "    \n",
    "    # build second pass object\n",
    "    roi_2ndpass = dict(size_pass = fine, overlap_percentage = overlap, xcf_mesh=fine)\n",
    "    dic_2ndpass = xpy.DIC(corrected_images,roi_2ndpass,filter_settings,savingfolder=dic_1stpass.folder)\n",
    "\n",
    "\n",
    "    # # run the second pass\n",
    "    dic_2ndpass.run_sequential(cores=cores)\n",
    "    dic_2ndpass.plot_displacements()\n",
    "\n",
    "    dic_2ndpass.calculate_strain()\n",
    "    dic_2ndpass.plot_strains()\n",
    "\n",
    "    #dic_2ndpass.save_data()"
   ]
  },
  {
   "source": [
    "## Here we run a third pass based on corrected images after first pass - this pass uses the heaviside algo"
   ],
   "cell_type": "markdown",
   "metadata": {}
  },
  {
   "cell_type": "code",
   "execution_count": null,
   "metadata": {
    "tags": [
     "outputPrepend"
    ]
   },
   "outputs": [],
   "source": [
    "if __name__ == \"__main__\":\n",
    "\n",
    "    roi_3rdpass = dict(size_pass = hs_size, overlap_percentage = hs_overlap, xcf_mesh=hs_size)\n",
    "\n",
    "    dic_3rdpass = xpy.DIC(corrected_images,roi_3rdpass,filter_settings,savingfolder=dic_1stpass.folder)\n",
    "\n",
    "    # Run the third pass with hs=true\n",
    "    dic_3rdpass.run_sequential(cores=cores, hs=True, cc_t=0., px_size=px_size)\n",
    "    dic_3rdpass.plot_displacements()\n",
    "\n",
    "    # Calculate strain\n",
    "    dic_3rdpass.calculate_strain()\n",
    "    dic_3rdpass.plot_strains()"
   ]
  },
  {
   "source": [
    "## Here we plot the data in detail"
   ],
   "cell_type": "markdown",
   "metadata": {}
  },
  {
   "cell_type": "code",
   "execution_count": null,
   "metadata": {},
   "outputs": [],
   "source": [
    "import cmocean # You may have to download this set of colormaps\n",
    "\n",
    "cmap = cmocean.cm.deep_r\n",
    "\n",
    "\n",
    "# XX strain data\n",
    "pass_2_xx = dic_2ndpass.strain_11[:,:,0]\n",
    "pass_3_xx = dic_3rdpass.strain_11[:,:,0]\n",
    "\n",
    "# Heaviside data\n",
    "r = dic_3rdpass.rd_maps[:,:,0]\n",
    "t = dic_3rdpass.th_maps[:,:,0]\n",
    "j = dic_3rdpass.rd_maps[:,:,0]\n",
    "\n",
    "\n",
    "# Strain plot\n",
    "fig1, axs = plt.subplots(1,2,figsize=(20,10))\n",
    "im1 = axs[0].imshow(pass_2_xx,vmin=-0.05,vmax=0.05,cmap=cmap)\n",
    "im2 = axs[1].imshow(pass_3_xx,vmin=-0.05,vmax=0.05,cmap=cmap)\n",
    "fig1.colorbar(im1, ax=axs[0], shrink=0.8)\n",
    "fig1.colorbar(im2, ax=axs[1], shrink=0.8)\n",
    "\n",
    "\n",
    "# Heaviside plot\n",
    "fig2, axs = plt.subplots(1,3,figsize=(30,10))\n",
    "axs[0].imshow(r, cmap=cmap)\n",
    "axs[1].imshow(t, cmap=cmap)\n",
    "axs[2].imshow(j, cmap=cmap)\n"
   ]
  },
  {
   "source": [
    "## Save data"
   ],
   "cell_type": "markdown",
   "metadata": {}
  },
  {
   "cell_type": "code",
   "execution_count": null,
   "metadata": {},
   "outputs": [],
   "source": [
    "\n",
    "# This function is still a bit wonky\n",
    "dic_3rdpass.save_data()\n",
    "\n",
    "\n",
    "# Save images\n",
    "\n",
    "fid1 = \"\"\n",
    "fid2 = \"\"\n",
    "fid = o.path.join(folder_path, fid + \".\" + \"tif\")\n",
    "\n",
    "fig1.savefig(fid1, dpi=200)\n",
    "fig2.savefig(fid2, dpi=200)"
   ]
  }
 ]
}