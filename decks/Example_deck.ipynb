{
 "metadata": {
  "language_info": {
   "codemirror_mode": {
    "name": "ipython",
    "version": 3
   },
   "file_extension": ".py",
   "mimetype": "text/x-python",
   "name": "python",
   "nbconvert_exporter": "python",
   "pygments_lexer": "ipython3",
   "version": 3
  },
  "orig_nbformat": 2
 },
 "nbformat": 4,
 "nbformat_minor": 2,
 "cells": [
  {
   "source": [
    "# Example deck for running a discontinuity tolerant DIC analysis on a set of images"
   ],
   "cell_type": "markdown",
   "metadata": {}
  },
  {
   "cell_type": "code",
   "execution_count": null,
   "metadata": {},
   "outputs": [],
   "source": [
    "import os as o\n",
    "from pathlib import Path\n",
    "import time\n",
    "import matplotlib.pyplot as plt\n",
    "import crosspy as xpy\n",
    "\n",
    "\n",
    "\n"
   ]
  },
  {
   "source": [
    "## Fill settings below"
   ],
   "cell_type": "markdown",
   "metadata": {}
  },
  {
   "cell_type": "code",
   "execution_count": null,
   "metadata": {},
   "outputs": [],
   "source": [
    "\n",
    "# Define the folder path to images\n",
    "folder_path=Path(r'C:\\Alex\\crosspy\\data\\ce4511_2\\aligned_stiches')\n",
    "\n",
    "# NOTE THAT IMAGES SHOULD BE NUMBERED\n",
    "\n",
    "# Coarse pass settings\n",
    "coarse = 200 # in pixels\n",
    "coarse_overlap = 50 # in percentage\n",
    "\n",
    "# Fine pass settings\n",
    "fine = 48 # in pixels\n",
    "overlap = 80 # in percentage\n",
    "\n",
    "\n",
    "# Heaviside pass settings\n",
    "hs_size = 48\n",
    "hs_overlap = 80\n",
    "\n",
    "# fft filter settings: high pass, high pass width, low pass, low pass width\n",
    "filter_settings=[4,2,15,8]\n",
    "\n"
   ]
  },
  {
   "source": [
    "## Here we run conventional DIC to compare with later"
   ],
   "cell_type": "markdown",
   "metadata": {}
  },
  {
   "cell_type": "code",
   "execution_count": null,
   "metadata": {},
   "outputs": [],
   "source": [
    "if __name__ == \"__main__\":\n",
    "\n",
    "    # build the dic class (but don't run it yet):\n",
    "    Images = xpy.Imset(folder_path,'tif',[0,1])\n",
    "    roi_1stpass = dict(size_pass = coarse, overlap_percentage = coarse_overlap, xcf_mesh=coarse)\n",
    "    dic_1stpass=xpy.DIC(cropped,roi_1stpass,filter_settings)\n",
    "    # run the dic on specified images within the stack, and get displacements:\n",
    "    dic_1stpass.run_sequential(cores=40)\n",
    "    dic_1stpass.plot_displacements()\n",
    "\n",
    "    # correct the images and instantiate a new DIC class\n",
    "\n",
    "    corrected_images=dic_1stpass.correct(method='polynomial',printing=1)\n",
    "    #cropped2 = crop_image(corrected_images, 3000, 2000, 6000-1500, 4000-1000)\n",
    "    roi_2ndpass = dict(size_pass = fine, overlap_percentage = overlap, xcf_mesh=fine)\n",
    "\n",
    "    dic_2ndpass = xpy.DIC(corrected_images,roi_2ndpass,filter_settings,savingfolder=dic_1stpass.folder)\n",
    "    print(dic_2ndpass.n_subsets)\n",
    "    # # run the second pass\n",
    "    dic_2ndpass.run_sequential(cores=40)#, hs=False)\n",
    "    dic_2ndpass.plot_displacements()\n",
    "\n",
    "    dic_2ndpass.calculate_strain()\n",
    "    dic_2ndpass.plot_strains()\n",
    "\n",
    "    #dic_2ndpass.save_data()"
   ]
  },
  {
   "source": [
    "## Here we run a third pass based on corrected images after first pass - this pass uses the heaviside algo"
   ],
   "cell_type": "markdown",
   "metadata": {}
  },
  {
   "cell_type": "code",
   "execution_count": null,
   "metadata": {},
   "outputs": [],
   "source": [
    "if __name__ == \"__main__\":\n",
    "\n",
    "    roi_3rdpass = dict(size_pass = hs_size, overlap_percentage = hs_overlap, xcf_mesh=hs_size)\n",
    "\n",
    "    dic_3rdpass = xpy.DIC(corrected_images,roi_3rdpass,filter_settings,savingfolder=dic_1stpass.folder)\n",
    "\n",
    "    print(dic_3rdpass.n_subsets)\n",
    "    # # run the second pass\n",
    "    dic_3rdpass.run_sequential(cores=40, hs=True, cc_t=0.)\n",
    "    dic_3rdpass.plot_displacements()"
   ]
  },
  {
   "cell_type": "code",
   "execution_count": null,
   "metadata": {},
   "outputs": [],
   "source": []
  }
 ]
}