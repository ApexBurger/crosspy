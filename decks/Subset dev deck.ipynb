{
 "cells": [
  {
   "cell_type": "markdown",
   "metadata": {},
   "source": [
    "# Subset discontinuity tracking\n",
    "This deck contains proofing of subset splitting methodologies"
   ]
  },
  {
   "cell_type": "code",
   "execution_count": null,
   "metadata": {},
   "outputs": [],
   "source": [
    "# preamble\n",
    "\n",
    "import matplotlib.pyplot as plt\n",
    "from pathlib import Path\n",
    "from crosspy import DIC, Imset\n",
    "import os\n",
    "\n",
    "# folder path\n",
    "\n",
    "folder_path=Path(r'SET PATH HERE')\n",
    "Images = Imset(folder_path,'tif')\n",
    "\n",
    "# first pass settings\n",
    "\n",
    "filter_settings=[4,2,15,8]\n",
    "roi_1stpass = dict(size_pass = 200, overlap_percentage = 70, xcf_mesh=250)\n",
    "\n",
    "# first pass\n",
    "\n",
    "dic_1stpass = DIC(Images,roi_1stpass,filter_settings)\n",
    "dic_1stpass.run_sequential()\n",
    "\n",
    "# image correct\n",
    "\n",
    "dic_1stpass_corrected = dic_1stpass.correct()"
   ]
  },
  {
   "cell_type": "markdown",
   "metadata": {},
   "source": [
    "## Step 1 : identify subsets with kinematic discontinuities\n",
    "Subsets with discontinuities may be identified by peak heigh mistmatch, extreme displacements"
   ]
  },
  {
   "cell_type": "code",
   "execution_count": null,
   "metadata": {},
   "outputs": [],
   "source": [
    "# select subset\n",
    "\n",
    "# plot subset in 0 and 1\n",
    "\n",
    "# apply a line and step function\n",
    "\n",
    "# cross correlate and check match"
   ]
  },
  {
   "cell_type": "markdown",
   "metadata": {},
   "source": [
    "## Step 2 : fit straight discontinuity"
   ]
  },
  {
   "cell_type": "code",
   "execution_count": null,
   "metadata": {},
   "outputs": [],
   "source": []
  },
  {
   "cell_type": "markdown",
   "metadata": {},
   "source": [
    "## Step 3 : obtain kinematic shifts"
   ]
  },
  {
   "cell_type": "code",
   "execution_count": null,
   "metadata": {},
   "outputs": [],
   "source": []
  },
  {
   "cell_type": "markdown",
   "metadata": {},
   "source": [
    "## Step 4 : apply shifts to d maps"
   ]
  },
  {
   "cell_type": "code",
   "execution_count": null,
   "metadata": {},
   "outputs": [],
   "source": []
  }
 ],
 "metadata": {
  "kernelspec": {
   "display_name": "Python 3",
   "language": "python",
   "name": "python3"
  },
  "language_info": {
   "codemirror_mode": {
    "name": "ipython",
    "version": 3
   },
   "file_extension": ".py",
   "mimetype": "text/x-python",
   "name": "python",
   "nbconvert_exporter": "python",
   "pygments_lexer": "ipython3",
   "version": "3.7.4"
  }
 },
 "nbformat": 4,
 "nbformat_minor": 2
}
