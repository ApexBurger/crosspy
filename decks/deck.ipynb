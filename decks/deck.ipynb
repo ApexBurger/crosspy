{
 "cells": [
  {
   "cell_type": "markdown",
   "metadata": {},
   "source": [
    "# Jupyter deck to run a standard analysis on a DIC image set\n",
    "\n",
    "The script below will run a first pass with large subset size and overlap in order to correct rigid body translation and rotation. A second pass is then applied with smaller subset size and overlap to obtain accurate displacements. The strain is then calculated from these displacements.\n",
    "\n",
    "Before running this script, make sure that crosspy has been installed. This is done by opening a command terminal, changing directory to the crosspy dir and running \"pip install .\""
   ]
  },
  {
   "cell_type": "code",
   "execution_count": null,
   "metadata": {},
   "outputs": [],
   "source": [
    "import matplotlib.pyplot as plt\n",
    "from pathlib import Path\n",
    "from crosspy import DIC, Imset\n",
    "import os"
   ]
  },
  {
   "cell_type": "markdown",
   "metadata": {},
   "source": [
    "## Set the folder path below"
   ]
  },
  {
   "cell_type": "code",
   "execution_count": null,
   "metadata": {},
   "outputs": [],
   "source": [
    "folder_path=Path(r'SET PATH HERE')\n",
    "Images = Imset(folder_path,'tif')"
   ]
  },
  {
   "cell_type": "markdown",
   "metadata": {},
   "source": [
    "## Choose the settings for the first pass - the filter settings list contains these variables:\n",
    "    - high pass filter\n",
    "    - high pass width\n",
    "    - low pass filter\n",
    "    - low pass width"
   ]
  },
  {
   "cell_type": "code",
   "execution_count": null,
   "metadata": {},
   "outputs": [],
   "source": [
    "filter_settings=[4,2,15,8]\n",
    "roi_1stpass = dict(size_pass = 200, overlap_percentage = 70, xcf_mesh=250)"
   ]
  },
  {
   "cell_type": "markdown",
   "metadata": {},
   "source": [
    "## Now instantiate the DIC object - this assembles the images and settings"
   ]
  },
  {
   "cell_type": "code",
   "execution_count": null,
   "metadata": {},
   "outputs": [],
   "source": [
    "dic_1stpass = DIC(Images,roi_1stpass,filter_settings)"
   ]
  },
  {
   "cell_type": "markdown",
   "metadata": {},
   "source": [
    "## Run the first pass using sequential image pairs"
   ]
  },
  {
   "cell_type": "code",
   "execution_count": null,
   "metadata": {},
   "outputs": [],
   "source": [
    "dic_1stpass.run_sequential()"
   ]
  },
  {
   "cell_type": "markdown",
   "metadata": {},
   "source": [
    "## Correct the first image pair"
   ]
  },
  {
   "cell_type": "code",
   "execution_count": null,
   "metadata": {},
   "outputs": [],
   "source": [
    "dic_1stpass_corrected = dic_1stpass.correct()"
   ]
  },
  {
   "cell_type": "markdown",
   "metadata": {},
   "source": [
    "## Choose settings for the second pass"
   ]
  },
  {
   "cell_type": "code",
   "execution_count": null,
   "metadata": {},
   "outputs": [],
   "source": [
    "# second pass\n",
    "roi_2ndpass = dict(size_pass = 60, overlap_percentage = 80, xcf_mesh=250)\n",
    "dic_2ndpass = DIC(dic_1stpass_corrected,roi_2ndpass,filter_settings)\n"
   ]
  },
  {
   "cell_type": "markdown",
   "metadata": {},
   "source": [
    "## Run second pass"
   ]
  },
  {
   "cell_type": "code",
   "execution_count": null,
   "metadata": {},
   "outputs": [],
   "source": [
    "dic_2ndpass.run_sequential()"
   ]
  },
  {
   "cell_type": "markdown",
   "metadata": {},
   "source": [
    "## Calculate strains"
   ]
  },
  {
   "cell_type": "code",
   "execution_count": null,
   "metadata": {},
   "outputs": [],
   "source": [
    "dic_2ndpass.calculate_strain()"
   ]
  },
  {
   "cell_type": "markdown",
   "metadata": {},
   "source": [
    "## Plot strains\n",
    "The strains should now be stored in the dic object such that calling dic_2ndpass.strain_11 gives a n,m,i array of strains per displacment map.\n",
    "\n",
    "plot_strains() plots the 11, 22, 12, and effective strains and changes the limits plotted based on the mean value and standard deviation of strain. "
   ]
  },
  {
   "cell_type": "code",
   "execution_count": null,
   "metadata": {},
   "outputs": [],
   "source": [
    "dic_2ndpass.plot_strains(colmap='jet')"
   ]
  }
 ],
 "metadata": {
  "kernelspec": {
   "display_name": "Python 3",
   "language": "python",
   "name": "python3"
  },
  "language_info": {
   "codemirror_mode": {
    "name": "ipython",
    "version": 3
   },
   "file_extension": ".py",
   "mimetype": "text/x-python",
   "name": "python",
   "nbconvert_exporter": "python",
   "pygments_lexer": "ipython3",
   "version": "3.7.4"
  }
 },
 "nbformat": 4,
 "nbformat_minor": 2
}
